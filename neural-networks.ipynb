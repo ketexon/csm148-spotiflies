{
 "cells": [
  {
   "cell_type": "code",
   "execution_count": 58,
   "metadata": {},
   "outputs": [],
   "source": [
    "# imports\n",
    "import pandas as pd\n",
    "import torch\n",
    "import torch.nn as nn\n",
    "import torch.optim as optim\n",
    "import lightning as pl\n",
    "import lightning.pytorch.callbacks as pl_callbacks\n",
    "\n",
    "from torch.utils.data import DataLoader, Dataset, TensorDataset\n",
    "\n",
    "from sklearn.model_selection import train_test_split\n",
    "from sklearn.preprocessing import StandardScaler, LabelEncoder\n",
    "from sklearn.metrics import accuracy_score, classification_report\n",
    "from torchmetrics import F1Score\n",
    "\n",
    "import numpy as np\n",
    "\n",
    "from typing import cast\n",
    "\n",
    "import os\n",
    "is_linux = os.name == 'posix'"
   ]
  },
  {
   "cell_type": "code",
   "execution_count": 59,
   "metadata": {},
   "outputs": [],
   "source": [
    "# import data\n",
    "from spotify_data import grouped_data, categorical_columns, string_columns"
   ]
  },
  {
   "cell_type": "code",
   "execution_count": 60,
   "metadata": {},
   "outputs": [
    {
     "name": "stderr",
     "output_type": "stream",
     "text": [
      "/home/ketexon/programming/csm148-spotiflies/.venv/lib/python3.12/site-packages/torch/cuda/__init__.py:716: UserWarning: Can't initialize NVML\n",
      "  warnings.warn(\"Can't initialize NVML\")\n"
     ]
    }
   ],
   "source": [
    "device = torch.device('cuda' if torch.cuda.is_available() else 'cpu')"
   ]
  },
  {
   "cell_type": "code",
   "execution_count": 61,
   "metadata": {},
   "outputs": [
    {
     "name": "stdout",
     "output_type": "stream",
     "text": [
      "(array([0, 1, 2, 3, 4, 5, 6, 7, 8, 9]), array([ 2388, 15974,  4782,  2422,  3169,  4797, 23924,  7174,  8769,\n",
      "       17663]))\n",
      "classical:      3.813           2,388\n",
      "electronic:     0.570           15,974\n",
      "folk:           1.904           4,782\n",
      "hip-hop:        3.760           2,422\n",
      "jazz:           2.874           3,169\n",
      "metal:          1.898           4,797\n",
      "misc:           0.381           23,924\n",
      "pop:            1.269           7,174\n",
      "rock:           1.038           8,769\n",
      "world:          0.516           17,663\n",
      "track_genre\n",
      "misc          29855\n",
      "world         21984\n",
      "electronic    20000\n",
      "rock          10996\n",
      "pop            8999\n",
      "metal          6000\n",
      "folk           6000\n",
      "jazz           3999\n",
      "hip-hop        3000\n",
      "classical      2995\n",
      "Name: count, dtype: int64\n"
     ]
    }
   ],
   "source": [
    "response_variable = \"track_genre\"\n",
    "\n",
    "# remove string columns and one-hot encode\n",
    "Y = grouped_data[response_variable]\n",
    "label_encoder = LabelEncoder()\n",
    "Y_encoded = label_encoder.fit_transform(Y)\n",
    "\n",
    "X = grouped_data.drop(columns=[response_variable, *string_columns])\n",
    "X = pd.get_dummies(\n",
    "    X,\n",
    "    columns=[col for col in categorical_columns if col != response_variable],\n",
    "    drop_first=True\n",
    ")\n",
    "\n",
    "# split data\n",
    "X_train, X_val, Y_train, Y_val = train_test_split(\n",
    "    X, Y_encoded,\n",
    "    test_size=0.2,\n",
    "    random_state=42\n",
    ")\n",
    "\n",
    "Y_train = cast(np.ndarray, Y_train)\n",
    "\n",
    "# create class weights\n",
    "Y_train_unique = np.unique(Y_train, return_counts=True)\n",
    "print(Y_train_unique)\n",
    "class_weights = len(Y_train) / (Y_train_unique[1] * len(Y_train_unique[1]))\n",
    "for i, w in enumerate(class_weights):\n",
    "    label_encoded = Y_train_unique[0][i]\n",
    "    label_decoded = label_encoder.inverse_transform([label_encoded])[0]\n",
    "    w_str = f\"{w:.3f}\"\n",
    "    count_str = f\"{Y_train_unique[1][i]:,}\"\n",
    "    print(f\"{label_decoded + ':': <16}{w_str: <16}{count_str}\")\n",
    "print(Y.value_counts())\n",
    "# DEBUG: fill Y_train with all 2s\n",
    "# Y_train = [2] * len(Y_train)\n",
    "# Y_val = [2] * len(Y_val)\n",
    "\n",
    "# scale\n",
    "scaler = StandardScaler()\n",
    "X_train = scaler.fit_transform(X_train)\n",
    "X_val = scaler.transform(X_val)\n",
    "\n",
    "# convert to tensors\n",
    "X_train_tensor = torch.tensor(X_train, dtype=torch.float32).to(device)\n",
    "X_val_tensor = torch.tensor(X_val, dtype=torch.float32).to(device)\n",
    "Y_train_tensor = torch.tensor(Y_train, dtype=torch.long).to(device)\n",
    "Y_val_tensor = torch.tensor(Y_val, dtype=torch.long).to(device)\n",
    "\n",
    "class_weights_tensor = torch.tensor(class_weights, dtype=torch.float32).to(device)\n",
    "\n",
    "\n",
    "# create dataset\n",
    "train_dataset = TensorDataset(X_train_tensor, Y_train_tensor)\n",
    "validation_dataset = TensorDataset(X_val_tensor, Y_val_tensor)\n",
    "\n",
    "# create dataloaders\n",
    "batch_size = 64\n",
    "num_workers = 12 if is_linux else 0\n",
    "train_loader = DataLoader(\n",
    "    train_dataset,\n",
    "    batch_size=batch_size,\n",
    "    shuffle=True,\n",
    "    num_workers=num_workers,\n",
    ")\n",
    "validation_loader = DataLoader(\n",
    "    validation_dataset,\n",
    "    batch_size=batch_size,\n",
    "    shuffle=False,\n",
    "    num_workers=num_workers,\n",
    ")"
   ]
  },
  {
   "cell_type": "code",
   "execution_count": 62,
   "metadata": {},
   "outputs": [],
   "source": [
    "# Create model\n",
    "\n",
    "import torchmetrics.classification\n",
    "\n",
    "\n",
    "class SpotifyModel(pl.LightningModule):\n",
    "    def __init__(\n",
    "        self,\n",
    "        input_dim: int,\n",
    "        output_dim: int,\n",
    "        lr: float = 0.01,\n",
    "        class_weights: torch.tensor = None,\n",
    "        hidden_dim: int = 64,\n",
    "        dropout_rate: float = 0.5,\n",
    "        weight_decay: float = 0.01,\n",
    "    ):\n",
    "        super().__init__()\n",
    "        self.lr = lr\n",
    "        self.model = nn.Sequential(\n",
    "            nn.Linear(input_dim, hidden_dim),\n",
    "            nn.ReLU(),\n",
    "            nn.Dropout(dropout_rate),\n",
    "            nn.Linear(hidden_dim, output_dim),\n",
    "            nn.Softmax(dim=1),\n",
    "        )\n",
    "        self.n_classes = output_dim\n",
    "        self.weight_decay = weight_decay\n",
    "        self.epoch_metrics = []\n",
    "        self.train_metrics_stack = []\n",
    "        self.validation_metrics_stack = []\n",
    "        self.loss = nn.CrossEntropyLoss(weight=class_weights)\n",
    "\n",
    "    def forward(self, x):\n",
    "        return self.model(x)\n",
    "\n",
    "    def training_step(self, batch, batch_idx):\n",
    "        x, y = batch\n",
    "        y_hat = self(x)\n",
    "        loss = self.loss(y_hat, y)\n",
    "        self.log(\"train_loss\", loss)\n",
    "        self.train_metrics_stack.append({\n",
    "            'train_loss': loss,\n",
    "        })\n",
    "        return loss\n",
    "\n",
    "    def validation_step(self, batch, batch_idx):\n",
    "        x, y = batch\n",
    "        y_hat = self(x)\n",
    "        loss = self.loss(y_hat, y)\n",
    "        preds = torch.argmax(y_hat, dim=1)\n",
    "        acc = (preds == y).float().mean()\n",
    "        self.validation_metrics_stack.append({\n",
    "            'val_loss': loss,\n",
    "            'val_acc': acc\n",
    "        })\n",
    "        self.log(\"val_loss\", loss)\n",
    "        return loss\n",
    "\n",
    "    def on_validation_epoch_end(self):\n",
    "        # sum in validation stack\n",
    "        if len(self.validation_metrics_stack) == 0:\n",
    "            return\n",
    "        if len(self.train_metrics_stack) == 0:\n",
    "            return\n",
    "        val_loss = torch.stack([x['val_loss'] for x in self.validation_metrics_stack]).mean()\n",
    "        val_acc = torch.stack([x['val_acc'] for x in self.validation_metrics_stack]).mean()\n",
    "        train_loss = torch.stack([x['train_loss'] for x in self.train_metrics_stack]).mean()\n",
    "        self.epoch_metrics.append({\n",
    "            'val_loss': val_loss.cpu(),\n",
    "            'val_acc': val_acc.cpu(),\n",
    "            'train_loss': train_loss.cpu(),\n",
    "        })\n",
    "        # clear stack\n",
    "        self.validation_metrics_stack = []\n",
    "        self.train_metrics_stack = []\n",
    "\n",
    "\n",
    "    def configure_optimizers(self):\n",
    "        optimizer = optim.Adam(self.parameters(), lr=self.lr, weight_decay=self.weight_decay)\n",
    "        scheduler = optim.lr_scheduler.StepLR(optimizer, step_size=10, gamma=0.1)\n",
    "        return [optimizer], [scheduler]\n"
   ]
  },
  {
   "cell_type": "code",
   "execution_count": 63,
   "metadata": {},
   "outputs": [
    {
     "name": "stderr",
     "output_type": "stream",
     "text": [
      "/home/ketexon/programming/csm148-spotiflies/.venv/lib/python3.12/site-packages/torch/cuda/__init__.py:716: UserWarning: Can't initialize NVML\n",
      "  warnings.warn(\"Can't initialize NVML\")\n",
      "GPU available: False, used: False\n",
      "TPU available: False, using: 0 TPU cores\n",
      "HPU available: False, using: 0 HPUs\n",
      "\n",
      "  | Name  | Type             | Params | Mode \n",
      "---------------------------------------------------\n",
      "0 | model | Sequential       | 2.5 K  | train\n",
      "1 | loss  | CrossEntropyLoss | 0      | train\n",
      "---------------------------------------------------\n",
      "2.5 K     Trainable params\n",
      "0         Non-trainable params\n",
      "2.5 K     Total params\n",
      "0.010     Total estimated model params size (MB)\n",
      "7         Modules in train mode\n",
      "0         Modules in eval mode\n"
     ]
    },
    {
     "name": "stdout",
     "output_type": "stream",
     "text": [
      "Epoch 6: 100%|██████████| 1423/1423 [00:13<00:00, 106.60it/s, v_num=18]     \n"
     ]
    }
   ],
   "source": [
    "input_dim = X_train.shape[1]\n",
    "output_dim = len(label_encoder.classes_)\n",
    "lr = 0.01\n",
    "\n",
    "model = SpotifyModel(\n",
    "    input_dim,\n",
    "    output_dim,\n",
    "    lr=lr,\n",
    "    class_weights=class_weights_tensor\n",
    ").to(device)\n",
    "\n",
    "# train model\n",
    "early_stopping = pl_callbacks.EarlyStopping(\n",
    "    monitor='val_loss',\n",
    "    patience=5,\n",
    "    min_delta=0.001,\n",
    "    mode='min'\n",
    ")\n",
    "\n",
    "use_checkpoint = False\n",
    "ckpt_path=\"epoch=99-step=142300.ckpt\" if use_checkpoint else None\n",
    "trainer = pl.Trainer(\n",
    "    max_epochs=100,\n",
    "    callbacks=[\n",
    "        early_stopping\n",
    "    ]\n",
    ")\n",
    "trainer.fit(\n",
    "    model,\n",
    "    train_loader,\n",
    "    validation_loader,\n",
    "    ckpt_path=ckpt_path\n",
    ")"
   ]
  },
  {
   "cell_type": "code",
   "execution_count": 64,
   "metadata": {},
   "outputs": [
    {
     "name": "stdout",
     "output_type": "stream",
     "text": [
      "0\n",
      "1    7657\n",
      "5    7167\n",
      "2    4126\n",
      "0    3816\n",
      "Name: count, dtype: int64\n",
      "              precision    recall  f1-score   support\n",
      "\n",
      "   classical       0.12      0.73      0.20       607\n",
      "  electronic       0.31      0.60      0.41      4026\n",
      "        folk       0.13      0.42      0.19      1218\n",
      "     hip-hop       1.00      0.00      0.00       578\n",
      "        jazz       1.00      0.00      0.00       830\n",
      "       metal       0.16      0.93      0.27      1203\n",
      "        misc       1.00      0.00      0.00      5931\n",
      "         pop       1.00      0.00      0.00      1825\n",
      "        rock       1.00      0.00      0.00      2227\n",
      "       world       1.00      0.00      0.00      4321\n",
      "\n",
      "    accuracy                           0.20     22766\n",
      "   macro avg       0.67      0.27      0.11     22766\n",
      "weighted avg       0.76      0.20      0.10     22766\n",
      "\n"
     ]
    }
   ],
   "source": [
    "# evaluate model\n",
    "model.eval()\n",
    "with torch.no_grad():\n",
    "    outputs = model.to(device)(X_val_tensor.to(device)).cpu()\n",
    "    _, predicted = torch.max(outputs.data, 1)\n",
    "    print(pd.DataFrame(predicted).value_counts())\n",
    "    class_report = classification_report(\n",
    "        Y_val,\n",
    "        predicted,\n",
    "        labels=range(len(label_encoder.classes_)),\n",
    "        target_names=label_encoder.classes_,\n",
    "        zero_division=1\n",
    "    )\n",
    "model.train()\n",
    "\n",
    "print(class_report)"
   ]
  },
  {
   "cell_type": "code",
   "execution_count": 65,
   "metadata": {},
   "outputs": [
    {
     "data": {
      "image/png": "[encoded data removed]",
      "text/plain": [
       "<Figure size 640x480 with 1 Axes>"
      ]
     },
     "metadata": {},
     "output_type": "display_data"
    }
   ],
   "source": [
    "# Graph epoch metrics\n",
    "import matplotlib.pyplot as plt\n",
    "\n",
    "# plot epoch to val loss and train loss\n",
    "plt.plot([x['val_loss'].cpu() for x in model.epoch_metrics], label='val_loss')\n",
    "plt.plot([x['train_loss'].cpu() for x in model.epoch_metrics], label='train_loss')\n",
    "plt.legend()\n",
    "plt.show()\n"
   ]
  },
  {
   "cell_type": "code",
   "execution_count": 66,
   "metadata": {},
   "outputs": [
    {
     "data": {
      "image/png": "[encoded data removed]",
      "text/plain": [
       "<Figure size 640x480 with 1 Axes>"
      ]
     },
     "metadata": {},
     "output_type": "display_data"
    }
   ],
   "source": [
    "# plot accuracy per epoch\n",
    "plt.plot([x['val_acc'].cpu() for x in model.epoch_metrics], label='val_acc')\n",
    "plt.legend()\n",
    "plt.show()"
   ]
  }
 ],
 "metadata": {
  "kernelspec": {
   "display_name": ".venv",
   "language": "python",
   "name": "python3"
  },
  "language_info": {
   "codemirror_mode": {
    "name": "ipython",
    "version": 3
   },
   "file_extension": ".py",
   "mimetype": "text/x-python",
   "name": "python",
   "nbconvert_exporter": "python",
   "pygments_lexer": "ipython3",
   "version": "3.12.7"
  }
 },
 "nbformat": 4,
 "nbformat_minor": 2
}
