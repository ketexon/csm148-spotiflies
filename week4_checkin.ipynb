{
  "cells": [
    {
      "cell_type": "markdown",
      "metadata": {
        "id": "_wRK_3hz7Ta3"
      },
      "source": [
        "# Week 3 Check-In\n",
        "## Team Spotiflies: Joanna, Aaron, Aubrey, Kennedy, Aster, Ethan\n",
        "GitHub Link: https://github.com/ketexon/csm148-spotiflies"
      ]
    },
    {
      "cell_type": "code",
      "execution_count": null,
      "metadata": {
        "id": "9yaJnDtI7Ta4",
        "outputId": "3ac6b552-e679-46a0-d0b1-c4e98501c98d"
      },
      "outputs": [
        {
          "name": "stdout",
          "output_type": "stream",
          "text": [
            "Requirement already satisfied: pandas in /Library/Frameworks/Python.framework/Versions/3.12/lib/python3.12/site-packages (2.2.2)\n",
            "Requirement already satisfied: numpy in /Library/Frameworks/Python.framework/Versions/3.12/lib/python3.12/site-packages (2.0.1)\n",
            "Requirement already satisfied: matplotlib in /Library/Frameworks/Python.framework/Versions/3.12/lib/python3.12/site-packages (3.9.2)\n",
            "Requirement already satisfied: seaborn in /Library/Frameworks/Python.framework/Versions/3.12/lib/python3.12/site-packages (0.13.2)\n",
            "Requirement already satisfied: scikit-learn in /Library/Frameworks/Python.framework/Versions/3.12/lib/python3.12/site-packages (1.5.2)\n",
            "Requirement already satisfied: mlxtend in /Library/Frameworks/Python.framework/Versions/3.12/lib/python3.12/site-packages (0.23.1)\n",
            "Requirement already satisfied: python-dateutil>=2.8.2 in /Users/joannaliu/Library/Python/3.12/lib/python/site-packages (from pandas) (2.9.0.post0)\n",
            "Requirement already satisfied: pytz>=2020.1 in /Library/Frameworks/Python.framework/Versions/3.12/lib/python3.12/site-packages (from pandas) (2024.1)\n",
            "Requirement already satisfied: tzdata>=2022.7 in /Library/Frameworks/Python.framework/Versions/3.12/lib/python3.12/site-packages (from pandas) (2024.1)\n",
            "Requirement already satisfied: contourpy>=1.0.1 in /Library/Frameworks/Python.framework/Versions/3.12/lib/python3.12/site-packages (from matplotlib) (1.3.0)\n",
            "Requirement already satisfied: cycler>=0.10 in /Library/Frameworks/Python.framework/Versions/3.12/lib/python3.12/site-packages (from matplotlib) (0.12.1)\n",
            "Requirement already satisfied: fonttools>=4.22.0 in /Library/Frameworks/Python.framework/Versions/3.12/lib/python3.12/site-packages (from matplotlib) (4.54.1)\n",
            "Requirement already satisfied: kiwisolver>=1.3.1 in /Library/Frameworks/Python.framework/Versions/3.12/lib/python3.12/site-packages (from matplotlib) (1.4.7)\n",
            "Requirement already satisfied: packaging>=20.0 in /Users/joannaliu/Library/Python/3.12/lib/python/site-packages (from matplotlib) (24.0)\n",
            "Requirement already satisfied: pillow>=8 in /Library/Frameworks/Python.framework/Versions/3.12/lib/python3.12/site-packages (from matplotlib) (10.4.0)\n",
            "Requirement already satisfied: pyparsing>=2.3.1 in /Library/Frameworks/Python.framework/Versions/3.12/lib/python3.12/site-packages (from matplotlib) (3.1.4)\n",
            "Requirement already satisfied: scipy>=1.6.0 in /Library/Frameworks/Python.framework/Versions/3.12/lib/python3.12/site-packages (from scikit-learn) (1.14.1)\n",
            "Requirement already satisfied: joblib>=1.2.0 in /Library/Frameworks/Python.framework/Versions/3.12/lib/python3.12/site-packages (from scikit-learn) (1.4.2)\n",
            "Requirement already satisfied: threadpoolctl>=3.1.0 in /Library/Frameworks/Python.framework/Versions/3.12/lib/python3.12/site-packages (from scikit-learn) (3.5.0)\n",
            "Requirement already satisfied: six>=1.5 in /Users/joannaliu/Library/Python/3.12/lib/python/site-packages (from python-dateutil>=2.8.2->pandas) (1.16.0)\n",
            "Note: you may need to restart the kernel to use updated packages.\n"
          ]
        }
      ],
      "source": [
        "%pip install pandas numpy matplotlib seaborn scikit-learn mlxtend"
      ]
    },
    {
      "cell_type": "markdown",
      "metadata": {
        "id": "-3Q2LQDT7Ta5"
      },
      "source": [
        "### Variable Selection\n",
        "We used the cleaned version of our dataset from the week 2 check in. For our response variable, we chose `mode` because it had less class imbalance, so it would lead to a better logistic regression model.\n",
        "\n",
        "We chose to use `valence` as our predictor variable due to our domain knowledge. `valence` is a measure of how happy a track is, and `mode` is whether the track is in a major (1) or minor(0) key. Major keys are generally regarded as being happier than minor keys, so we were curious if the data supported this."
      ]
    },
    {
      "cell_type": "code",
      "execution_count": 77,
      "metadata": {
        "id": "EEZI3qWx7Ta5",
        "outputId": "d5d09009-a4c1-4191-a25e-ff9a1b73377d",
        "colab": {
          "base_uri": "https://localhost:8080/",
          "height": 562
        }
      },
      "outputs": [
        {
          "output_type": "stream",
          "name": "stdout",
          "text": [
            "mode\n",
            "1    72681\n",
            "0    41318\n",
            "Name: count, dtype: int64\n",
            "explicit\n",
            "False    104252\n",
            "True       9747\n",
            "Name: count, dtype: int64\n"
          ]
        },
        {
          "output_type": "execute_result",
          "data": {
            "text/plain": [
              "        mode  valence\n",
              "0          0   0.7150\n",
              "1          1   0.2670\n",
              "2          1   0.1200\n",
              "3          1   0.1430\n",
              "4          1   0.1670\n",
              "...      ...      ...\n",
              "113994     1   0.0339\n",
              "113995     0   0.0350\n",
              "113996     0   0.7430\n",
              "113997     1   0.4130\n",
              "113998     0   0.7080\n",
              "\n",
              "[113999 rows x 2 columns]"
            ],
            "text/html": [
              "\n",
              "  <div id=\"df-36fd1b5a-4ae7-47d8-8c05-5ea7a88288f3\" class=\"colab-df-container\">\n",
              "    <div>\n",
              "<style scoped>\n",
              "    .dataframe tbody tr th:only-of-type {\n",
              "        vertical-align: middle;\n",
              "    }\n",
              "\n",
              "    .dataframe tbody tr th {\n",
              "        vertical-align: top;\n",
              "    }\n",
              "\n",
              "    .dataframe thead th {\n",
              "        text-align: right;\n",
              "    }\n",
              "</style>\n",
              "<table border=\"1\" class=\"dataframe\">\n",
              "  <thead>\n",
              "    <tr style=\"text-align: right;\">\n",
              "      <th></th>\n",
              "      <th>mode</th>\n",
              "      <th>valence</th>\n",
              "    </tr>\n",
              "  </thead>\n",
              "  <tbody>\n",
              "    <tr>\n",
              "      <th>0</th>\n",
              "      <td>0</td>\n",
              "      <td>0.7150</td>\n",
              "    </tr>\n",
              "    <tr>\n",
              "      <th>1</th>\n",
              "      <td>1</td>\n",
              "      <td>0.2670</td>\n",
              "    </tr>\n",
              "    <tr>\n",
              "      <th>2</th>\n",
              "      <td>1</td>\n",
              "      <td>0.1200</td>\n",
              "    </tr>\n",
              "    <tr>\n",
              "      <th>3</th>\n",
              "      <td>1</td>\n",
              "      <td>0.1430</td>\n",
              "    </tr>\n",
              "    <tr>\n",
              "      <th>4</th>\n",
              "      <td>1</td>\n",
              "      <td>0.1670</td>\n",
              "    </tr>\n",
              "    <tr>\n",
              "      <th>...</th>\n",
              "      <td>...</td>\n",
              "      <td>...</td>\n",
              "    </tr>\n",
              "    <tr>\n",
              "      <th>113994</th>\n",
              "      <td>1</td>\n",
              "      <td>0.0339</td>\n",
              "    </tr>\n",
              "    <tr>\n",
              "      <th>113995</th>\n",
              "      <td>0</td>\n",
              "      <td>0.0350</td>\n",
              "    </tr>\n",
              "    <tr>\n",
              "      <th>113996</th>\n",
              "      <td>0</td>\n",
              "      <td>0.7430</td>\n",
              "    </tr>\n",
              "    <tr>\n",
              "      <th>113997</th>\n",
              "      <td>1</td>\n",
              "      <td>0.4130</td>\n",
              "    </tr>\n",
              "    <tr>\n",
              "      <th>113998</th>\n",
              "      <td>0</td>\n",
              "      <td>0.7080</td>\n",
              "    </tr>\n",
              "  </tbody>\n",
              "</table>\n",
              "<p>113999 rows × 2 columns</p>\n",
              "</div>\n",
              "    <div class=\"colab-df-buttons\">\n",
              "\n",
              "  <div class=\"colab-df-container\">\n",
              "    <button class=\"colab-df-convert\" onclick=\"convertToInteractive('df-36fd1b5a-4ae7-47d8-8c05-5ea7a88288f3')\"\n",
              "            title=\"Convert this dataframe to an interactive table.\"\n",
              "            style=\"display:none;\">\n",
              "\n",
              "  <svg xmlns=\"http://www.w3.org/2000/svg\" height=\"24px\" viewBox=\"0 -960 960 960\">\n",
              "    <path d=\"M120-120v-720h720v720H120Zm60-500h600v-160H180v160Zm220 220h160v-160H400v160Zm0 220h160v-160H400v160ZM180-400h160v-160H180v160Zm440 0h160v-160H620v160ZM180-180h160v-160H180v160Zm440 0h160v-160H620v160Z\"/>\n",
              "  </svg>\n",
              "    </button>\n",
              "\n",
              "  <style>\n",
              "    .colab-df-container {\n",
              "      display:flex;\n",
              "      gap: 12px;\n",
              "    }\n",
              "\n",
              "    .colab-df-convert {\n",
              "      background-color: #E8F0FE;\n",
              "      border: none;\n",
              "      border-radius: 50%;\n",
              "      cursor: pointer;\n",
              "      display: none;\n",
              "      fill: #1967D2;\n",
              "      height: 32px;\n",
              "      padding: 0 0 0 0;\n",
              "      width: 32px;\n",
              "    }\n",
              "\n",
              "    .colab-df-convert:hover {\n",
              "      background-color: #E2EBFA;\n",
              "      box-shadow: 0px 1px 2px rgba(60, 64, 67, 0.3), 0px 1px 3px 1px rgba(60, 64, 67, 0.15);\n",
              "      fill: #174EA6;\n",
              "    }\n",
              "\n",
              "    .colab-df-buttons div {\n",
              "      margin-bottom: 4px;\n",
              "    }\n",
              "\n",
              "    [theme=dark] .colab-df-convert {\n",
              "      background-color: #3B4455;\n",
              "      fill: #D2E3FC;\n",
              "    }\n",
              "\n",
              "    [theme=dark] .colab-df-convert:hover {\n",
              "      background-color: #434B5C;\n",
              "      box-shadow: 0px 1px 3px 1px rgba(0, 0, 0, 0.15);\n",
              "      filter: drop-shadow(0px 1px 2px rgba(0, 0, 0, 0.3));\n",
              "      fill: #FFFFFF;\n",
              "    }\n",
              "  </style>\n",
              "\n",
              "    <script>\n",
              "      const buttonEl =\n",
              "        document.querySelector('#df-36fd1b5a-4ae7-47d8-8c05-5ea7a88288f3 button.colab-df-convert');\n",
              "      buttonEl.style.display =\n",
              "        google.colab.kernel.accessAllowed ? 'block' : 'none';\n",
              "\n",
              "      async function convertToInteractive(key) {\n",
              "        const element = document.querySelector('#df-36fd1b5a-4ae7-47d8-8c05-5ea7a88288f3');\n",
              "        const dataTable =\n",
              "          await google.colab.kernel.invokeFunction('convertToInteractive',\n",
              "                                                    [key], {});\n",
              "        if (!dataTable) return;\n",
              "\n",
              "        const docLinkHtml = 'Like what you see? Visit the ' +\n",
              "          '<a target=\"_blank\" href=https://colab.research.google.com/notebooks/data_table.ipynb>data table notebook</a>'\n",
              "          + ' to learn more about interactive tables.';\n",
              "        element.innerHTML = '';\n",
              "        dataTable['output_type'] = 'display_data';\n",
              "        await google.colab.output.renderOutput(dataTable, element);\n",
              "        const docLink = document.createElement('div');\n",
              "        docLink.innerHTML = docLinkHtml;\n",
              "        element.appendChild(docLink);\n",
              "      }\n",
              "    </script>\n",
              "  </div>\n",
              "\n",
              "\n",
              "<div id=\"df-4b50a037-513e-4ec4-a235-d3976aa51da7\">\n",
              "  <button class=\"colab-df-quickchart\" onclick=\"quickchart('df-4b50a037-513e-4ec4-a235-d3976aa51da7')\"\n",
              "            title=\"Suggest charts\"\n",
              "            style=\"display:none;\">\n",
              "\n",
              "<svg xmlns=\"http://www.w3.org/2000/svg\" height=\"24px\"viewBox=\"0 0 24 24\"\n",
              "     width=\"24px\">\n",
              "    <g>\n",
              "        <path d=\"M19 3H5c-1.1 0-2 .9-2 2v14c0 1.1.9 2 2 2h14c1.1 0 2-.9 2-2V5c0-1.1-.9-2-2-2zM9 17H7v-7h2v7zm4 0h-2V7h2v10zm4 0h-2v-4h2v4z\"/>\n",
              "    </g>\n",
              "</svg>\n",
              "  </button>\n",
              "\n",
              "<style>\n",
              "  .colab-df-quickchart {\n",
              "      --bg-color: #E8F0FE;\n",
              "      --fill-color: #1967D2;\n",
              "      --hover-bg-color: #E2EBFA;\n",
              "      --hover-fill-color: #174EA6;\n",
              "      --disabled-fill-color: #AAA;\n",
              "      --disabled-bg-color: #DDD;\n",
              "  }\n",
              "\n",
              "  [theme=dark] .colab-df-quickchart {\n",
              "      --bg-color: #3B4455;\n",
              "      --fill-color: #D2E3FC;\n",
              "      --hover-bg-color: #434B5C;\n",
              "      --hover-fill-color: #FFFFFF;\n",
              "      --disabled-bg-color: #3B4455;\n",
              "      --disabled-fill-color: #666;\n",
              "  }\n",
              "\n",
              "  .colab-df-quickchart {\n",
              "    background-color: var(--bg-color);\n",
              "    border: none;\n",
              "    border-radius: 50%;\n",
              "    cursor: pointer;\n",
              "    display: none;\n",
              "    fill: var(--fill-color);\n",
              "    height: 32px;\n",
              "    padding: 0;\n",
              "    width: 32px;\n",
              "  }\n",
              "\n",
              "  .colab-df-quickchart:hover {\n",
              "    background-color: var(--hover-bg-color);\n",
              "    box-shadow: 0 1px 2px rgba(60, 64, 67, 0.3), 0 1px 3px 1px rgba(60, 64, 67, 0.15);\n",
              "    fill: var(--button-hover-fill-color);\n",
              "  }\n",
              "\n",
              "  .colab-df-quickchart-complete:disabled,\n",
              "  .colab-df-quickchart-complete:disabled:hover {\n",
              "    background-color: var(--disabled-bg-color);\n",
              "    fill: var(--disabled-fill-color);\n",
              "    box-shadow: none;\n",
              "  }\n",
              "\n",
              "  .colab-df-spinner {\n",
              "    border: 2px solid var(--fill-color);\n",
              "    border-color: transparent;\n",
              "    border-bottom-color: var(--fill-color);\n",
              "    animation:\n",
              "      spin 1s steps(1) infinite;\n",
              "  }\n",
              "\n",
              "  @keyframes spin {\n",
              "    0% {\n",
              "      border-color: transparent;\n",
              "      border-bottom-color: var(--fill-color);\n",
              "      border-left-color: var(--fill-color);\n",
              "    }\n",
              "    20% {\n",
              "      border-color: transparent;\n",
              "      border-left-color: var(--fill-color);\n",
              "      border-top-color: var(--fill-color);\n",
              "    }\n",
              "    30% {\n",
              "      border-color: transparent;\n",
              "      border-left-color: var(--fill-color);\n",
              "      border-top-color: var(--fill-color);\n",
              "      border-right-color: var(--fill-color);\n",
              "    }\n",
              "    40% {\n",
              "      border-color: transparent;\n",
              "      border-right-color: var(--fill-color);\n",
              "      border-top-color: var(--fill-color);\n",
              "    }\n",
              "    60% {\n",
              "      border-color: transparent;\n",
              "      border-right-color: var(--fill-color);\n",
              "    }\n",
              "    80% {\n",
              "      border-color: transparent;\n",
              "      border-right-color: var(--fill-color);\n",
              "      border-bottom-color: var(--fill-color);\n",
              "    }\n",
              "    90% {\n",
              "      border-color: transparent;\n",
              "      border-bottom-color: var(--fill-color);\n",
              "    }\n",
              "  }\n",
              "</style>\n",
              "\n",
              "  <script>\n",
              "    async function quickchart(key) {\n",
              "      const quickchartButtonEl =\n",
              "        document.querySelector('#' + key + ' button');\n",
              "      quickchartButtonEl.disabled = true;  // To prevent multiple clicks.\n",
              "      quickchartButtonEl.classList.add('colab-df-spinner');\n",
              "      try {\n",
              "        const charts = await google.colab.kernel.invokeFunction(\n",
              "            'suggestCharts', [key], {});\n",
              "      } catch (error) {\n",
              "        console.error('Error during call to suggestCharts:', error);\n",
              "      }\n",
              "      quickchartButtonEl.classList.remove('colab-df-spinner');\n",
              "      quickchartButtonEl.classList.add('colab-df-quickchart-complete');\n",
              "    }\n",
              "    (() => {\n",
              "      let quickchartButtonEl =\n",
              "        document.querySelector('#df-4b50a037-513e-4ec4-a235-d3976aa51da7 button');\n",
              "      quickchartButtonEl.style.display =\n",
              "        google.colab.kernel.accessAllowed ? 'block' : 'none';\n",
              "    })();\n",
              "  </script>\n",
              "</div>\n",
              "\n",
              "  <div id=\"id_b5973e06-8dce-4ef2-b93b-46646bd933c8\">\n",
              "    <style>\n",
              "      .colab-df-generate {\n",
              "        background-color: #E8F0FE;\n",
              "        border: none;\n",
              "        border-radius: 50%;\n",
              "        cursor: pointer;\n",
              "        display: none;\n",
              "        fill: #1967D2;\n",
              "        height: 32px;\n",
              "        padding: 0 0 0 0;\n",
              "        width: 32px;\n",
              "      }\n",
              "\n",
              "      .colab-df-generate:hover {\n",
              "        background-color: #E2EBFA;\n",
              "        box-shadow: 0px 1px 2px rgba(60, 64, 67, 0.3), 0px 1px 3px 1px rgba(60, 64, 67, 0.15);\n",
              "        fill: #174EA6;\n",
              "      }\n",
              "\n",
              "      [theme=dark] .colab-df-generate {\n",
              "        background-color: #3B4455;\n",
              "        fill: #D2E3FC;\n",
              "      }\n",
              "\n",
              "      [theme=dark] .colab-df-generate:hover {\n",
              "        background-color: #434B5C;\n",
              "        box-shadow: 0px 1px 3px 1px rgba(0, 0, 0, 0.15);\n",
              "        filter: drop-shadow(0px 1px 2px rgba(0, 0, 0, 0.3));\n",
              "        fill: #FFFFFF;\n",
              "      }\n",
              "    </style>\n",
              "    <button class=\"colab-df-generate\" onclick=\"generateWithVariable('numeric_spotify')\"\n",
              "            title=\"Generate code using this dataframe.\"\n",
              "            style=\"display:none;\">\n",
              "\n",
              "  <svg xmlns=\"http://www.w3.org/2000/svg\" height=\"24px\"viewBox=\"0 0 24 24\"\n",
              "       width=\"24px\">\n",
              "    <path d=\"M7,19H8.4L18.45,9,17,7.55,7,17.6ZM5,21V16.75L18.45,3.32a2,2,0,0,1,2.83,0l1.4,1.43a1.91,1.91,0,0,1,.58,1.4,1.91,1.91,0,0,1-.58,1.4L9.25,21ZM18.45,9,17,7.55Zm-12,3A5.31,5.31,0,0,0,4.9,8.1,5.31,5.31,0,0,0,1,6.5,5.31,5.31,0,0,0,4.9,4.9,5.31,5.31,0,0,0,6.5,1,5.31,5.31,0,0,0,8.1,4.9,5.31,5.31,0,0,0,12,6.5,5.46,5.46,0,0,0,6.5,12Z\"/>\n",
              "  </svg>\n",
              "    </button>\n",
              "    <script>\n",
              "      (() => {\n",
              "      const buttonEl =\n",
              "        document.querySelector('#id_b5973e06-8dce-4ef2-b93b-46646bd933c8 button.colab-df-generate');\n",
              "      buttonEl.style.display =\n",
              "        google.colab.kernel.accessAllowed ? 'block' : 'none';\n",
              "\n",
              "      buttonEl.onclick = () => {\n",
              "        google.colab.notebook.generateWithVariable('numeric_spotify');\n",
              "      }\n",
              "      })();\n",
              "    </script>\n",
              "  </div>\n",
              "\n",
              "    </div>\n",
              "  </div>\n"
            ],
            "application/vnd.google.colaboratory.intrinsic+json": {
              "type": "dataframe",
              "variable_name": "numeric_spotify"
            }
          },
          "metadata": {},
          "execution_count": 77
        }
      ],
      "source": [
        "import pandas as pd\n",
        "\n",
        "# Reading in the cleaned data from previous week check in\n",
        "spotify = pd.read_csv(\"csv_outputs/cleaned_spotify.csv\")\n",
        "\n",
        "# check the class imbalance of the two binary values\n",
        "print(spotify['mode'].value_counts())\n",
        "print(spotify['explicit'].value_counts())\n",
        "\n",
        "# select the variables of interest\n",
        "numeric_spotify = spotify[['mode', 'valence']]\n",
        "numeric_spotify"
      ]
    },
    {
      "cell_type": "markdown",
      "metadata": {
        "id": "7D18rejn7Ta6"
      },
      "source": [
        "### Logistic Regression"
      ]
    },
    {
      "cell_type": "code",
      "execution_count": 80,
      "metadata": {
        "id": "bGH2v4f_7Ta6",
        "outputId": "5ea69d79-c32a-4748-85a8-6421c5e1910a",
        "colab": {
          "base_uri": "https://localhost:8080/",
          "height": 561
        }
      },
      "outputs": [
        {
          "output_type": "stream",
          "name": "stdout",
          "text": [
            "[0.48593023] [[0.17089804]]\n"
          ]
        },
        {
          "output_type": "stream",
          "name": "stderr",
          "text": [
            "/usr/local/lib/python3.10/dist-packages/sklearn/base.py:493: UserWarning: X does not have valid feature names, but LogisticRegression was fitted with feature names\n",
            "  warnings.warn(\n"
          ]
        },
        {
          "output_type": "execute_result",
          "data": {
            "text/plain": [
              "Text(0, 0.5, 'Probability of Major Key')"
            ]
          },
          "metadata": {},
          "execution_count": 80
        },
        {
          "output_type": "display_data",
          "data": {
            "text/plain": [
              "<Figure size 640x480 with 1 Axes>"
            ],
            "image/png": "[encoded data removed]"
          },
          "metadata": {}
        }
      ],
      "source": [
        "# Modeling regression of valence vs mode\n",
        "# We are doing a logistic regression analysis.\n",
        "\n",
        "# Import necessary libraries\n",
        "import numpy as np\n",
        "import math\n",
        "import matplotlib.pyplot as plt\n",
        "from sklearn.linear_model import LogisticRegression\n",
        "from sklearn.model_selection import train_test_split\n",
        "from sklearn import metrics\n",
        "\n",
        "random_seed = 42\n",
        "response = \"mode\"\n",
        "predictor = 'valence'\n",
        "\n",
        "# Splitting the data\n",
        "# First split: separate out 20% for the test set\n",
        "spotify_train_val, spotify_test = train_test_split(numeric_spotify, test_size=0.2, random_state=random_seed)\n",
        "\n",
        "# Second split: separate remaining 80% into 60% training and 40% validation\n",
        "spotify_train, spotify_val = train_test_split(spotify_train_val, test_size=0.25, random_state=random_seed)  # 0.25 * 0.8 = 0.2\n",
        "\n",
        "# Reshape the data to fit the model\n",
        "X_train = spotify_train.drop(columns=response)\n",
        "y_train = spotify_train[response]\n",
        "\n",
        "# fit the model and list intercept and coefficient\n",
        "logistic_reg = LogisticRegression(solver='liblinear')\n",
        "logistic_reg.fit(X=X_train,y=y_train)\n",
        "print(logistic_reg.intercept_, logistic_reg.coef_)\n",
        "\n",
        "\n",
        "# generate values for plotting the curve\n",
        "x_values = np.linspace(0, 1, 100)\n",
        "y_values = logistic_reg.predict_proba(x_values.reshape(-1, 1))[:,1]\n",
        "\n",
        "# plot the curve\n",
        "plt.plot(x_values, y_values)\n",
        "plt.title('Probability of Major Key Given Valence')\n",
        "plt.xlabel('Valence')\n",
        "plt.ylabel(\"Probability of Major Key\")"
      ]
    },
    {
      "cell_type": "markdown",
      "source": [
        "### Calculating the Confusion Matrix + Metrics"
      ],
      "metadata": {
        "id": "4NVUFDOCPTet"
      }
    },
    {
      "cell_type": "code",
      "execution_count": 90,
      "metadata": {
        "id": "GlzrCenH7Ta6",
        "outputId": "0e7a041f-3ac7-429a-86e4-714555edbec4",
        "colab": {
          "base_uri": "https://localhost:8080/"
        }
      },
      "outputs": [
        {
          "output_type": "stream",
          "name": "stdout",
          "text": [
            "confusion matrix:\n",
            " [[    0  8276]\n",
            " [    0 14524]]\n",
            "Prediction Accuracy: 0.6370175438596491\n",
            "Prediction Error: 0.36298245614035085\n",
            "True Positive Rate: 1.0\n",
            "True Negative Rate: 0.0\n"
          ]
        }
      ],
      "source": [
        "# calculate the confusion matrix using the validation set\n",
        "y_pred = logistic_reg.predict(spotify_val.drop(columns=response))\n",
        "y_true = spotify_val[response]\n",
        "conf = metrics.confusion_matrix(y_pred=y_pred, y_true=y_true)\n",
        "print('confusion matrix:\\n', conf)\n",
        "print('Prediction Accuracy:', metrics.accuracy_score(y_true=y_true, y_pred=y_pred))\n",
        "print('Prediction Error:', 1 - metrics.accuracy_score(y_true=y_true, y_pred=y_pred))\n",
        "print('True Positive Rate:', metrics.recall_score(y_true=y_true, y_pred=y_pred))\n",
        "print('True Negative Rate:', metrics.recall_score(y_true=y_true, y_pred=y_pred, pos_label=0))"
      ]
    },
    {
      "cell_type": "markdown",
      "metadata": {
        "id": "GIhKpM0B7Ta7"
      },
      "source": [
        "### ROC Curve + AUC Calculation"
      ]
    },
    {
      "cell_type": "code",
      "execution_count": 97,
      "metadata": {
        "id": "PN5cb7O97Ta7",
        "outputId": "5f447fc1-32d9-4413-c8e9-28403056fe04",
        "colab": {
          "base_uri": "https://localhost:8080/"
        }
      },
      "outputs": [
        {
          "output_type": "stream",
          "name": "stdout",
          "text": [
            "Logistic regression AUC: 0.511\n"
          ]
        }
      ],
      "source": [
        "import plotly.express as px\n",
        "\n",
        "# Create the ROC curve variables\n",
        "logistic_reg_fpr_sample, logistic_reg_tpr_sample, logistic_reg_thresholds_sample = metrics.roc_curve(spotify_val[response], logistic_reg.predict_proba(spotify_val.drop(columns=response))[:,1])\n",
        "roc_logistic_reg_sample = pd.DataFrame({\n",
        "    'False Positive Rate': logistic_reg_fpr_sample,\n",
        "    'True Positive Rate': logistic_reg_tpr_sample,\n",
        "    'Model': 'Logistic Regression'\n",
        "}, index=logistic_reg_thresholds_sample)\n",
        "roc_sample_df = pd.concat([roc_logistic_reg_sample])\n",
        "\n",
        "# Plot\n",
        "px.line(roc_sample_df, y='True Positive Rate', x='False Positive Rate',\n",
        "        color='Model',\n",
        "        width=700, height=500\n",
        ")\n",
        "\n",
        "# Calculate AUC\n",
        "logistic_reg_auc_sample = metrics.roc_auc_score(spotify_val[response], logistic_reg.predict_proba(spotify_val.drop(columns=response))[:,1])\n",
        "print('Logistic regression AUC:', logistic_reg_auc_sample.round(3))"
      ]
    },
    {
      "cell_type": "markdown",
      "source": [
        "### 5-Fold CV + AUC Calculation"
      ],
      "metadata": {
        "id": "gevBD9vVTWFm"
      }
    },
    {
      "cell_type": "code",
      "execution_count": 100,
      "metadata": {
        "id": "uGf2jaYX7Ta7",
        "outputId": "7bdda3d2-4409-4a10-bc4a-a4349561a634",
        "colab": {
          "base_uri": "https://localhost:8080/"
        }
      },
      "outputs": [
        {
          "output_type": "stream",
          "name": "stdout",
          "text": [
            "[   0    1    2 ... 4661 4662 4670]\n",
            "Fold:  1\n",
            "AUC:  0.5\n",
            "Accuracy:  0.6370614035087719\n",
            "[4491 4492 4493 ... 9161 9164 9167]\n",
            "Fold:  2\n",
            "AUC:  0.5\n",
            "Accuracy:  0.6370614035087719\n",
            "[ 9086  9089  9092 ... 13753 13754 13757]\n",
            "Fold:  3\n",
            "AUC:  0.5\n",
            "Accuracy:  0.6370614035087719\n",
            "[13641 13642 13643 ... 18306 18310 18311]\n",
            "Fold:  4\n",
            "AUC:  0.5\n",
            "Accuracy:  0.6370614035087719\n",
            "[18216 18218 18219 ... 22797 22798 22799]\n",
            "Fold:  5\n",
            "AUC:  0.5\n",
            "Accuracy:  0.6368421052631579\n"
          ]
        }
      ],
      "source": [
        "from sklearn.model_selection import StratifiedKFold\n",
        "from sklearn.base import clone\n",
        "\n",
        "skfolds = StratifiedKFold(n_splits=5)\n",
        "i = 1\n",
        "X = spotify_val.drop(columns=response)\n",
        "y = spotify_val[response]\n",
        "for train_index, test_index in skfolds.split(X, y):\n",
        "    clone_lr = clone(logistic_reg)\n",
        "    X_train_folds = X.iloc[train_index]\n",
        "    y_train_folds = y.iloc[train_index]\n",
        "    X_test_fold = X.iloc[test_index]\n",
        "    print(test_index)\n",
        "    clone_lr.fit(X_train_folds, y_train_folds)\n",
        "    y_pred = clone_lr.predict(X_test_fold)\n",
        "\n",
        "    auc_sample = metrics.roc_auc_score(y.iloc[test_index], y_pred)\n",
        "    print('Fold: ', i)\n",
        "    print('AUC: ', auc_sample)\n",
        "    print('Accuracy: ', metrics.accuracy_score(y.iloc[test_index], y_pred))\n",
        "    i += 1"
      ]
    }
  ],
  "metadata": {
    "kernelspec": {
      "display_name": "Python 3",
      "language": "python",
      "name": "python3"
    },
    "language_info": {
      "codemirror_mode": {
        "name": "ipython",
        "version": 3
      },
      "file_extension": ".py",
      "mimetype": "text/x-python",
      "name": "python",
      "nbconvert_exporter": "python",
      "pygments_lexer": "ipython3",
      "version": "3.12.0"
    },
    "colab": {
      "provenance": []
    }
  },
  "nbformat": 4,
  "nbformat_minor": 0
}