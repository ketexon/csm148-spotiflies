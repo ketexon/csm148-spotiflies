{
 "cells": [
  {
   "cell_type": "code",
   "execution_count": 1,
   "metadata": {},
   "outputs": [],
   "source": [
    "import matplotlib.pyplot as plt\n",
    "import pandas as pd\n",
    "from sklearn.cluster import KMeans, AgglomerativeClustering\n",
    "from sklearn.model_selection import train_test_split\n",
    "from sklearn.model_selection import StratifiedShuffleSplit\n",
    "from sklearn.metrics import adjusted_rand_score, silhouette_score"
   ]
  },
  {
   "cell_type": "code",
   "execution_count": null,
   "metadata": {},
   "outputs": [
    {
     "name": "stdout",
     "output_type": "stream",
     "text": [
      "['misc' 'world' 'rock' 'metal' 'folk' 'jazz' 'hip-hop' 'pop' 'electronic'\n",
      " 'classical']\n"
     ]
    }
   ],
   "source": [
    "original_data = pd.read_csv('csv_outputs/cleaned_spotify.csv')\n",
    "\n",
    "genre_groups = {\n",
    "    'pop': ['cantopop', 'j-pop', 'k-pop', 'mandopop', 'pop', 'indie-pop', 'power-pop', 'pop-film', 'synth-pop'],\n",
    "    'rock': ['alt-rock', 'alternative', 'hard-rock', 'punk-rock', 'psych-rock', 'rock', 'rock-n-roll', 'grunge', 'emo', 'rockabilly', 'guitar'],\n",
    "    'metal': ['black-metal', 'death-metal', 'heavy-metal', 'metal', 'metalcore', 'grindcore'],\n",
    "    'electronic': ['edm', 'electro', 'electronic', 'house', 'garage', 'techno', 'trance', 'dubstep', 'idm', 'minimal-techno', 'progressive-house', 'chicago-house', 'deep-house', 'detroit-techno', 'disco', 'drum-and-bass', 'dub', 'club', 'dance', 'dancehall'],\n",
    "    'hip-hop': ['hip-hop', 'rap', 'r-n-b', 'breakbeat'],\n",
    "    'jazz': ['jazz', 'blues', 'soul', 'funk'],\n",
    "    'classical': ['classical', 'opera', 'piano'],\n",
    "    'world': ['afrobeat', 'brazil', 'british', 'latin', 'latino', 'samba', 'salsa', 'reggae', 'reggaeton', 'tango', 'world-music', 'indian', 'iranian', 'turkish', 'malay', 'mpb', 'pagode', 'forro', 'french', 'german', 'spanish', 'swedish'],\n",
    "    'folk': ['folk', 'bluegrass', 'country', 'singer-songwriter', 'songwriter', 'honky-tonk'],\n",
    "    'misc': ['acoustic', 'ambient', 'anime', 'children', 'chill', 'comedy', 'disney', 'happy', 'party', 'study', 'sleep', 'show-tunes', 'new-age', 'kids', 'industrial', 'gospel', 'goth', 'groove', 'hardcore', 'hardstyle', 'indie', 'j-dance', 'j-idol', 'j-rock', 'punk', 'romance', 'sad', 'sertanejo', 'ska', 'trip-hop']\n",
    "}\n",
    "\n",
    "genre_map = dict()\n",
    "for genre, l in genre_groups.items():\n",
    "    for original in l:\n",
    "        genre_map[original] = genre\n",
    "\n",
    "data = original_data.copy()\n",
    "data['track_genre'] = data['track_genre'].map(genre_map)\n",
    "\n",
    "data.to_csv(\"csv_outputs/grouped_cleaned_spotify.csv\")"
   ]
  }
 ],
 "metadata": {
  "kernelspec": {
   "display_name": "Python 3",
   "language": "python",
   "name": "python3"
  },
  "language_info": {
   "codemirror_mode": {
    "name": "ipython",
    "version": 3
   },
   "file_extension": ".py",
   "mimetype": "text/x-python",
   "name": "python",
   "nbconvert_exporter": "python",
   "pygments_lexer": "ipython3",
   "version": "3.12.0"
  }
 },
 "nbformat": 4,
 "nbformat_minor": 2
}
