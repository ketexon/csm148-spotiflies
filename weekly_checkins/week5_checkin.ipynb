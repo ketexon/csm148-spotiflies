{
 "cells": [
  {
   "cell_type": "markdown",
   "metadata": {
    "id": "_wRK_3hz7Ta3"
   },
   "source": [
    "# Week 5 Check-In\n",
    "## Team Spotiflies: Joanna, Aaron, Aubrey, Kennedy, Aster, Ethan\n",
    "GitHub Link: https://github.com/ketexon/csm148-spotiflies"
   ]
  },
  {
   "cell_type": "code",
   "execution_count": 1,
   "metadata": {
    "id": "9yaJnDtI7Ta4",
    "outputId": "3ac6b552-e679-46a0-d0b1-c4e98501c98d"
   },
   "outputs": [
    {
     "name": "stdout",
     "output_type": "stream",
     "text": [
      "Requirement already satisfied: pandas in ./.venv/lib/python3.11/site-packages (2.2.3)\n",
      "Requirement already satisfied: numpy in ./.venv/lib/python3.11/site-packages (2.1.2)\n",
      "Requirement already satisfied: matplotlib in ./.venv/lib/python3.11/site-packages (3.9.2)\n",
      "Requirement already satisfied: seaborn in ./.venv/lib/python3.11/site-packages (0.13.2)\n",
      "Requirement already satisfied: scikit-learn in ./.venv/lib/python3.11/site-packages (1.5.2)\n",
      "Requirement already satisfied: mlxtend in ./.venv/lib/python3.11/site-packages (0.23.1)\n",
      "Requirement already satisfied: plotly in ./.venv/lib/python3.11/site-packages (5.24.1)\n",
      "Requirement already satisfied: nbformat in ./.venv/lib/python3.11/site-packages (5.10.4)\n",
      "Requirement already satisfied: python-dateutil>=2.8.2 in ./.venv/lib/python3.11/site-packages (from pandas) (2.9.0.post0)\n",
      "Requirement already satisfied: pytz>=2020.1 in ./.venv/lib/python3.11/site-packages (from pandas) (2024.2)\n",
      "Requirement already satisfied: tzdata>=2022.7 in ./.venv/lib/python3.11/site-packages (from pandas) (2024.2)\n",
      "Requirement already satisfied: contourpy>=1.0.1 in ./.venv/lib/python3.11/site-packages (from matplotlib) (1.3.0)\n",
      "Requirement already satisfied: cycler>=0.10 in ./.venv/lib/python3.11/site-packages (from matplotlib) (0.12.1)\n",
      "Requirement already satisfied: fonttools>=4.22.0 in ./.venv/lib/python3.11/site-packages (from matplotlib) (4.54.1)\n",
      "Requirement already satisfied: kiwisolver>=1.3.1 in ./.venv/lib/python3.11/site-packages (from matplotlib) (1.4.7)\n",
      "Requirement already satisfied: packaging>=20.0 in ./.venv/lib/python3.11/site-packages (from matplotlib) (24.1)\n",
      "Requirement already satisfied: pillow>=8 in ./.venv/lib/python3.11/site-packages (from matplotlib) (11.0.0)\n",
      "Requirement already satisfied: pyparsing>=2.3.1 in ./.venv/lib/python3.11/site-packages (from matplotlib) (3.2.0)\n",
      "Requirement already satisfied: scipy>=1.6.0 in ./.venv/lib/python3.11/site-packages (from scikit-learn) (1.14.1)\n",
      "Requirement already satisfied: joblib>=1.2.0 in ./.venv/lib/python3.11/site-packages (from scikit-learn) (1.4.2)\n",
      "Requirement already satisfied: threadpoolctl>=3.1.0 in ./.venv/lib/python3.11/site-packages (from scikit-learn) (3.5.0)\n",
      "Requirement already satisfied: tenacity>=6.2.0 in ./.venv/lib/python3.11/site-packages (from plotly) (9.0.0)\n",
      "Requirement already satisfied: fastjsonschema>=2.15 in ./.venv/lib/python3.11/site-packages (from nbformat) (2.20.0)\n",
      "Requirement already satisfied: jsonschema>=2.6 in ./.venv/lib/python3.11/site-packages (from nbformat) (4.23.0)\n",
      "Requirement already satisfied: jupyter-core!=5.0.*,>=4.12 in ./.venv/lib/python3.11/site-packages (from nbformat) (5.7.2)\n",
      "Requirement already satisfied: traitlets>=5.1 in ./.venv/lib/python3.11/site-packages (from nbformat) (5.14.3)\n",
      "Requirement already satisfied: attrs>=22.2.0 in ./.venv/lib/python3.11/site-packages (from jsonschema>=2.6->nbformat) (24.2.0)\n",
      "Requirement already satisfied: jsonschema-specifications>=2023.03.6 in ./.venv/lib/python3.11/site-packages (from jsonschema>=2.6->nbformat) (2024.10.1)\n",
      "Requirement already satisfied: referencing>=0.28.4 in ./.venv/lib/python3.11/site-packages (from jsonschema>=2.6->nbformat) (0.35.1)\n",
      "Requirement already satisfied: rpds-py>=0.7.1 in ./.venv/lib/python3.11/site-packages (from jsonschema>=2.6->nbformat) (0.20.1)\n",
      "Requirement already satisfied: platformdirs>=2.5 in ./.venv/lib/python3.11/site-packages (from jupyter-core!=5.0.*,>=4.12->nbformat) (4.3.6)\n",
      "Requirement already satisfied: six>=1.5 in ./.venv/lib/python3.11/site-packages (from python-dateutil>=2.8.2->pandas) (1.16.0)\n",
      "\n",
      "\u001b[1m[\u001b[0m\u001b[34;49mnotice\u001b[0m\u001b[1;39;49m]\u001b[0m\u001b[39;49m A new release of pip available: \u001b[0m\u001b[31;49m22.3\u001b[0m\u001b[39;49m -> \u001b[0m\u001b[32;49m24.3.1\u001b[0m\n",
      "\u001b[1m[\u001b[0m\u001b[34;49mnotice\u001b[0m\u001b[1;39;49m]\u001b[0m\u001b[39;49m To update, run: \u001b[0m\u001b[32;49mpip install --upgrade pip\u001b[0m\n",
      "Note: you may need to restart the kernel to use updated packages.\n"
     ]
    }
   ],
   "source": [
    "%pip install pandas numpy matplotlib seaborn scikit-learn mlxtend plotly nbformat"
   ]
  },
  {
   "cell_type": "code",
   "execution_count": 2,
   "metadata": {
    "colab": {
     "base_uri": "https://localhost:8080/",
     "height": 562
    },
    "id": "EEZI3qWx7Ta5",
    "outputId": "d5d09009-a4c1-4191-a25e-ff9a1b73377d"
   },
   "outputs": [],
   "source": [
    "# SETUP data set like in week 4:\n",
    "\n",
    "\n",
    "import pandas as pd\n",
    "import numpy as np\n",
    "import math\n",
    "import matplotlib.pyplot as plt\n",
    "from sklearn.linear_model import LogisticRegression\n",
    "from sklearn.model_selection import train_test_split\n",
    "from sklearn import metrics\n",
    "import plotly.io as pio\n",
    "\n",
    "pio.renderers.default = \"pdf\"\n",
    "\n",
    "# Reading in the cleaned data from previous week check in\n",
    "spotify = pd.read_csv(\"csv_outputs/cleaned_spotify.csv\")\n",
    "\n",
    "# select the variables of interest\n",
    "selected_spotify = spotify[['mode', 'valence', 'tempo']]\n",
    "selected_spotify\n",
    "\n",
    "random_seed = 42\n",
    "response = 'mode'\n",
    "predictor = 'valence'\n",
    "\n",
    "# Splitting the data\n",
    "# First split: separate out 20% for the test set\n",
    "spotify_train_val, spotify_test = train_test_split(selected_spotify, test_size=0.2, random_state=random_seed)\n",
    "\n",
    "# Second split: separate remaining 80% into 60% training and 40% validation\n",
    "spotify_train, spotify_val = train_test_split(spotify_train_val, test_size=0.25, random_state=random_seed)  # 0.25 * 0.8 = 0.2\n",
    "\n",
    "# Reshape the data to fit the model\n",
    "X_train = spotify_train.drop(columns=[response, \"tempo\"])\n",
    "y_train = spotify_train[response]\n",
    "\n",
    "# fit the model and list intercept and coefficient\n",
    "logistic_reg = LogisticRegression(solver='liblinear')\n",
    "logistic_reg.fit(X=X_train,y=y_train)\n",
    "\n",
    "# generate values for plotting the curve as a DataFrame with the same column name\n",
    "x_values = pd.DataFrame(np.linspace(0, 1, 100), columns=[predictor])  # Use 'valence' as the column name\n",
    "\n",
    "# Now you can predict the probabilities without the feature name issue\n",
    "y_values = logistic_reg.predict_proba(x_values)[:, 1]"
   ]
  },
  {
   "cell_type": "markdown",
   "metadata": {
    "id": "7D18rejn7Ta6"
   },
   "source": [
    "### KNN Algorithm:"
   ]
  },
  {
   "cell_type": "code",
   "execution_count": 3,
   "metadata": {},
   "outputs": [
    {
     "name": "stdout",
     "output_type": "stream",
     "text": [
      "Validation Accuracy: 0.6484210526315789\n",
      "              precision    recall  f1-score   support\n",
      "\n",
      "           0       0.52      0.42      0.46      8276\n",
      "           1       0.70      0.78      0.74     14524\n",
      "\n",
      "    accuracy                           0.65     22800\n",
      "   macro avg       0.61      0.60      0.60     22800\n",
      "weighted avg       0.64      0.65      0.64     22800\n",
      "\n"
     ]
    }
   ],
   "source": [
    "# Import necessary libraries\n",
    "from sklearn.neighbors import KNeighborsClassifier\n",
    "from sklearn.metrics import accuracy_score, classification_report\n",
    "\n",
    "# Define the response and predictor variables\n",
    "response = 'mode'\n",
    "predictors = ['valence', 'tempo']  # Use both 'valence' and 'tempo' as predictors\n",
    "\n",
    "# Use the same train-test split as before, selecting both predictor columns\n",
    "X_train = spotify_train[predictors]\n",
    "y_train = spotify_train[response]\n",
    "\n",
    "X_val = spotify_val[predictors]\n",
    "y_val = spotify_val[response]\n",
    "\n",
    "# Initialize the KNN model\n",
    "# Set n_neighbors to the desired number (e.g., 5) - you can tune this hyperparameter later\n",
    "knn = KNeighborsClassifier(n_neighbors=5)\n",
    "\n",
    "# Fit the KNN model on the training data\n",
    "knn.fit(X_train, y_train)\n",
    "\n",
    "# Predict the values on the validation set\n",
    "y_val_pred = knn.predict(X_val)\n",
    "\n",
    "# Evaluate the model\n",
    "print(\"Validation Accuracy:\", accuracy_score(y_val, y_val_pred))\n",
    "print(classification_report(y_val, y_val_pred))\n"
   ]
  },
  {
   "cell_type": "markdown",
   "metadata": {},
   "source": [
    "Unfortunately our KNN model's accuracy `valence` and `mode` variables isn't very good, but we can continue to check the validity of our model with the confusion matrix and other metrics."
   ]
  },
  {
   "cell_type": "markdown",
   "metadata": {
    "id": "4NVUFDOCPTet"
   },
   "source": [
    "### Calculating the Confusion Matrix + Metrics"
   ]
  },
  {
   "cell_type": "code",
   "execution_count": 4,
   "metadata": {
    "colab": {
     "base_uri": "https://localhost:8080/"
    },
    "id": "GlzrCenH7Ta6",
    "outputId": "0e7a041f-3ac7-429a-86e4-714555edbec4"
   },
   "outputs": [
    {
     "name": "stdout",
     "output_type": "stream",
     "text": [
      "Confusion Matrix:\n",
      " [[ 3470  4806]\n",
      " [ 3210 11314]]\n",
      "Prediction Accuracy: 0.6484210526315789\n",
      "Prediction Error: 0.3515789473684211\n",
      "True Positive Rate (Recall): 0.7789865050950151\n",
      "True Negative Rate (Specificity): 0.4192846785886902\n",
      "F1 Score: 0.7384153504764391\n"
     ]
    }
   ],
   "source": [
    "# Calculate the confusion matrix using the validation set with the new response variable\n",
    "y_pred = knn.predict(spotify_val[predictors])  # Use the KNN model to predict based on 'valence' and 'tempo'\n",
    "y_true = spotify_val[response]\n",
    "\n",
    "# Calculate and print metrics\n",
    "conf = metrics.confusion_matrix(y_true=y_true, y_pred=y_pred)\n",
    "print('Confusion Matrix:\\n', conf)\n",
    "print('Prediction Accuracy:', metrics.accuracy_score(y_true=y_true, y_pred=y_pred))\n",
    "print('Prediction Error:', 1 - metrics.accuracy_score(y_true=y_true, y_pred=y_pred))\n",
    "print('True Positive Rate (Recall):', metrics.recall_score(y_true=y_true, y_pred=y_pred))\n",
    "print('True Negative Rate (Specificity):', metrics.recall_score(y_true=y_true, y_pred=y_pred, pos_label=0))\n",
    "print('F1 Score:', metrics.f1_score(y_true=y_true, y_pred=y_pred))\n"
   ]
  },
  {
   "cell_type": "markdown",
   "metadata": {},
   "source": [
    "Our model seems to be predicting all values as a positive based on the confusion matrix, which is a sign that the model doesn't fit our data very well. However, we can continue to investigate using the ROC Curve and AUC."
   ]
  },
  {
   "cell_type": "markdown",
   "metadata": {
    "id": "GIhKpM0B7Ta7"
   },
   "source": [
    "### ROC Curve + AUC Calculation"
   ]
  },
  {
   "cell_type": "code",
   "execution_count": 5,
   "metadata": {},
   "outputs": [
    {
     "name": "stdout",
     "output_type": "stream",
     "text": [
      "KNN AUC: 0.654\n"
     ]
    },
    {
     "data": {
      "application/pdf": "[encoded data removed]"
     },
     "metadata": {},
     "output_type": "display_data"
    }
   ],
   "source": [
    "import plotly.express as px\n",
    "\n",
    "# Make sure KNN was initialized with probability=True for this to work\n",
    "# Create the ROC curve variables for KNN\n",
    "knn_fpr_sample, knn_tpr_sample, knn_thresholds_sample = metrics.roc_curve(\n",
    "    spotify_val[response], knn.predict_proba(spotify_val[predictors])[:, 1]\n",
    ")\n",
    "\n",
    "# Calculate AUC for KNN\n",
    "knn_auc_sample = metrics.roc_auc_score(\n",
    "    spotify_val[response], knn.predict_proba(spotify_val[predictors])[:, 1]\n",
    ")\n",
    "print('KNN AUC:', knn_auc_sample.round(3))\n",
    "\n",
    "# Prepare DataFrame for plotting\n",
    "roc_knn_sample = pd.DataFrame({\n",
    "    'False Positive Rate': knn_fpr_sample,\n",
    "    'True Positive Rate': knn_tpr_sample,\n",
    "    'Model': f'KNN (AUC = {knn_auc_sample:.3f})'\n",
    "}, index=knn_thresholds_sample)\n",
    "\n",
    "# Plot the ROC curve with AUC in the title\n",
    "fig = px.line(\n",
    "    roc_knn_sample,\n",
    "    y='True Positive Rate',\n",
    "    x='False Positive Rate',\n",
    "    color='Model',\n",
    "    width=700,\n",
    "    height=500,\n",
    "    title=f\"ROC Plot (AUC = {knn_auc_sample:.3f})\"\n",
    ")\n",
    "\n",
    "# Show plot\n",
    "fig.show()\n"
   ]
  },
  {
   "cell_type": "markdown",
   "metadata": {},
   "source": [
    "Based on the AUC, we have a sensitivity rating of about 0.654, which is basically equivalent to  making random guesses, so our model is probably not a good fit at all for the relationship between the `mode` and `valence` variables. The logistic model is probably not a good predictor model for our data."
   ]
  },
  {
   "cell_type": "markdown",
   "metadata": {
    "id": "gevBD9vVTWFm"
   },
   "source": [
    "### 5-Fold CV + AUC Calculation"
   ]
  },
  {
   "cell_type": "code",
   "execution_count": 6,
   "metadata": {
    "colab": {
     "base_uri": "https://localhost:8080/"
    },
    "id": "uGf2jaYX7Ta7",
    "outputId": "7bdda3d2-4409-4a10-bc4a-a4349561a634"
   },
   "outputs": [
    {
     "name": "stdout",
     "output_type": "stream",
     "text": [
      "Fold: 1\n",
      "AUC: 0.5912232789596019\n",
      "Accuracy: 0.6232456140350877\n",
      "Fold: 2\n",
      "AUC: 0.5833472864266733\n",
      "Accuracy: 0.6083333333333333\n",
      "Fold: 3\n",
      "AUC: 0.5915410974931232\n",
      "Accuracy: 0.6160087719298246\n",
      "Fold: 4\n",
      "AUC: 0.5968416783231328\n",
      "Accuracy: 0.6190789473684211\n",
      "Fold: 5\n",
      "AUC: 0.5833654604343832\n",
      "Accuracy: 0.6171052631578947\n"
     ]
    }
   ],
   "source": [
    "from sklearn.model_selection import StratifiedKFold\n",
    "from sklearn.base import clone\n",
    "\n",
    "# Initialize Stratified K-Folds\n",
    "skfolds = StratifiedKFold(n_splits=5)\n",
    "i = 1\n",
    "X = spotify_val[predictors]\n",
    "y = spotify_val[response]\n",
    "\n",
    "# Perform Stratified K-Fold Cross-Validation\n",
    "for train_index, test_index in skfolds.split(X, y):\n",
    "    # Clone the KNN model for each fold\n",
    "    clone_knn = clone(knn)\n",
    "\n",
    "    # Split data into training and test sets for this fold\n",
    "    X_train_folds = X.iloc[train_index]\n",
    "    y_train_folds = y.iloc[train_index]\n",
    "    X_test_fold = X.iloc[test_index]\n",
    "    y_test_fold = y.iloc[test_index]\n",
    "\n",
    "    # Train the cloned model\n",
    "    clone_knn.fit(X_train_folds, y_train_folds)\n",
    "\n",
    "    # Get predictions and calculate probabilities for AUC\n",
    "    y_pred = clone_knn.predict(X_test_fold)\n",
    "    y_pred_proba = clone_knn.predict_proba(X_test_fold)[:, 1]\n",
    "\n",
    "    # Calculate AUC and Accuracy for this fold\n",
    "    auc_sample = metrics.roc_auc_score(y_test_fold, y_pred_proba)\n",
    "    accuracy = metrics.accuracy_score(y_test_fold, y_pred)\n",
    "\n",
    "    # Display results\n",
    "    print(f'Fold: {i}')\n",
    "    print('AUC:', auc_sample)\n",
    "    print('Accuracy:', accuracy)\n",
    "\n",
    "    i += 1\n"
   ]
  },
  {
   "cell_type": "markdown",
   "metadata": {},
   "source": [
    "We ended up picking the default threshold of 0.5 as a starting point for a model. With it, we were able to get an accuracy of ~0.65 and an AUC ~0.654, which means that the logistic model does only slightly better than random guessing at predicting our data. We found that the accuracy is the same as the class imbalance for the `mode` variable, so the small boost above 0.5 is likely due to that, and not actually our model performing well. In conclusion, the relationship between `valence` and `mode` is not well modelled by the logistic predictor model."
   ]
  }
 ],
 "metadata": {
  "colab": {
   "provenance": []
  },
  "kernelspec": {
   "display_name": ".venv",
   "language": "python",
   "name": "python3"
  },
  "language_info": {
   "codemirror_mode": {
    "name": "ipython",
    "version": 3
   },
   "file_extension": ".py",
   "mimetype": "text/x-python",
   "name": "python",
   "nbconvert_exporter": "python",
   "pygments_lexer": "ipython3",
   "version": "3.11.0"
  }
 },
 "nbformat": 4,
 "nbformat_minor": 0
}
